{
 "cells": [
  {
   "metadata": {},
   "cell_type": "markdown",
   "source": [
    "# Lab 10: Розробка класифікатора аналізу клавіатурного почерку користувача з інтерфейсом користувача.\n",
    "### Шевченко Юлія, ФІ-31мн"
   ],
   "id": "c6b61598ab1d02c7"
  },
  {
   "metadata": {},
   "cell_type": "markdown",
   "source": [
    "### Description\n",
    "\n",
    "In this lab, we will develop a user authentication system based on keystroke dynamics, a behavioral biometric method. Each individual has a unique typing pattern, and by analyzing the timing of key presses and the intervals between them, we can create a reliable method for verifying user identities.\n",
    "\n",
    "### Motivation\n",
    "\n",
    "Traditional authentication methods, such as passwords and PINs, have significant security vulnerabilities. Behavioral biometrics, like keystroke dynamics, offer an additional layer of security by making it harder for unauthorized users to impersonate legitimate ones. This method enhances security without requiring additional hardware."
   ],
   "id": "a644b64362818c17"
  },
  {
   "cell_type": "code",
   "id": "initial_id",
   "metadata": {
    "collapsed": true,
    "ExecuteTime": {
     "end_time": "2024-06-18T22:06:15.098784Z",
     "start_time": "2024-06-18T22:06:14.343519Z"
    }
   },
   "source": [
    "# All the imports for the task\n",
    "import matplotlib.pyplot as plt\n",
    "import numpy as np\n",
    "from scipy.stats import t"
   ],
   "outputs": [],
   "execution_count": 1
  },
  {
   "metadata": {
    "ExecuteTime": {
     "end_time": "2024-06-18T22:06:15.104115Z",
     "start_time": "2024-06-18T22:06:15.099783Z"
    }
   },
   "cell_type": "code",
   "source": [
    "def calculate_student_coef(alpha, degrees_of_freedom, data):\n",
    "    \"\"\"\n",
    "    Calculate student coefficients for each data point in 'data'.\n",
    "\n",
    "    Parameters:\n",
    "    - alpha: significance level\n",
    "    - degrees_of_freedom: degrees of freedom for t-distribution\n",
    "    - data: list of data points\n",
    "\n",
    "    Returns:\n",
    "    - results: list of dictionaries containing calculated results\n",
    "    \"\"\"\n",
    "    # Calculate the critical t-value\n",
    "    t_critical = t.ppf(1 - alpha / 2, degrees_of_freedom)\n",
    "\n",
    "    results = []\n",
    "\n",
    "    for i in range(len(data)):\n",
    "        # Exclude one element at a time\n",
    "        data_subset = data[:i] + data[i+1:]\n",
    "\n",
    "        # Calculate mean and standard deviation\n",
    "        mean = np.mean(data_subset)\n",
    "        std_dev = np.std(data_subset)\n",
    "\n",
    "        # Calculate student coefficient\n",
    "        tt = abs((data[i] - mean) / std_dev)\n",
    "\n",
    "        # Check if student coefficient exceeds the critical t-value\n",
    "        significant = tt > t_critical\n",
    "\n",
    "        # Append results to list\n",
    "        result = {\n",
    "            \"value_excluded\": data[i],\n",
    "            \"mean\": mean,\n",
    "            \"standard_deviation\": std_dev,\n",
    "            \"student_coefficient\": tt,\n",
    "            \"is_significant\": significant\n",
    "        }\n",
    "        results.append(result)\n",
    "\n",
    "    return results"
   ],
   "id": "7a3392356fe03b27",
   "outputs": [],
   "execution_count": 2
  },
  {
   "metadata": {
    "ExecuteTime": {
     "end_time": "2024-06-18T22:06:15.108010Z",
     "start_time": "2024-06-18T22:06:15.104115Z"
    }
   },
   "cell_type": "code",
   "source": [
    "def fisher_discriminant_coefficient(X1, X2):\n",
    "    \"\"\"\n",
    "    Calculate Fisher's discriminant coefficient between two datasets X1 and X2.\n",
    "\n",
    "    Parameters:\n",
    "    - X1: list of data points for class 1\n",
    "    - X2: list of data points for class 2\n",
    "\n",
    "    Returns:\n",
    "    - ratio of variances S1/S2\n",
    "    \"\"\"\n",
    "    S1 = np.max([np.var(X1), np.var(X2)])\n",
    "    S2 = np.min([np.var(X1), np.var(X2)])\n",
    "    \n",
    "    return S1 / S2"
   ],
   "id": "e01d2067c31694d7",
   "outputs": [],
   "execution_count": 3
  },
  {
   "metadata": {
    "ExecuteTime": {
     "end_time": "2024-06-18T22:06:15.111967Z",
     "start_time": "2024-06-18T22:06:15.109010Z"
    }
   },
   "cell_type": "code",
   "source": [
    "# Example usage:\n",
    "data1 = (np.random.standard_t(149, size=150) + 0.004).tolist()\n",
    "data2 = np.random.standard_t(149, size=150).tolist()"
   ],
   "id": "b68a3f753fe6126",
   "outputs": [],
   "execution_count": 4
  },
  {
   "metadata": {
    "ExecuteTime": {
     "end_time": "2024-06-18T22:06:15.117708Z",
     "start_time": "2024-06-18T22:06:15.112966Z"
    }
   },
   "cell_type": "code",
   "source": [
    "# Calculate Fisher's discriminant coefficient\n",
    "fisher_coefficient = fisher_discriminant_coefficient(data1, data2)\n",
    "print(\"Fisher's discriminant coefficient:\", fisher_coefficient)"
   ],
   "id": "d9b8ec9b3d252e29",
   "outputs": [
    {
     "name": "stdout",
     "output_type": "stream",
     "text": [
      "Fisher's discriminant coefficient: 1.1521476754678635\n"
     ]
    }
   ],
   "execution_count": 5
  },
  {
   "metadata": {
    "ExecuteTime": {
     "end_time": "2024-06-18T22:06:15.122043Z",
     "start_time": "2024-06-18T22:06:15.118707Z"
    }
   },
   "cell_type": "code",
   "source": [
    "# Calculate t-statistic for two-sample t-test\n",
    "M_x = np.mean(data1)\n",
    "M_y = np.mean(data2)\n",
    "n = 150\n",
    "S2_x = np.sum((np.array(data1) - M_x) ** 2) / (n - 1)\n",
    "S2_y = np.sum((np.array(data2) - M_y) ** 2) / (n - 1)\n",
    "S = np.sqrt((S2_x + S2_y) * (n - 1) / (2 * n - 1))\n",
    "t_statistic = abs(M_x - M_y) / (S * np.sqrt(2 / n))"
   ],
   "id": "7c0d6d0ac46fbfd",
   "outputs": [],
   "execution_count": 6
  },
  {
   "metadata": {
    "ExecuteTime": {
     "end_time": "2024-06-18T22:06:15.126165Z",
     "start_time": "2024-06-18T22:06:15.123042Z"
    }
   },
   "cell_type": "code",
   "source": [
    "# Calculate critical t-value\n",
    "t_critical = t.ppf(1 - 0.05, 149)"
   ],
   "id": "c15cd0e50b559890",
   "outputs": [],
   "execution_count": 7
  },
  {
   "metadata": {
    "ExecuteTime": {
     "end_time": "2024-06-18T22:06:15.130139Z",
     "start_time": "2024-06-18T22:06:15.127164Z"
    }
   },
   "cell_type": "code",
   "source": [
    "# Print if t-statistic is greater than t_critical\n",
    "print(\"t-statistic:\", t_statistic)\n",
    "print(\"Is t-statistic greater than t_critical?\", t_statistic > t_critical)"
   ],
   "id": "4b40006545b0338f",
   "outputs": [
    {
     "name": "stdout",
     "output_type": "stream",
     "text": [
      "t-statistic: 1.901194182312229\n",
      "Is t-statistic greater than t_critical? True\n"
     ]
    }
   ],
   "execution_count": 8
  },
  {
   "metadata": {
    "ExecuteTime": {
     "end_time": "2024-06-18T22:06:15.280564Z",
     "start_time": "2024-06-18T22:06:15.131139Z"
    }
   },
   "cell_type": "code",
   "source": [
    "# Plot histograms\n",
    "plt.hist(data1, alpha=0.2, label='Data 1')\n",
    "plt.hist(data2, alpha=0.2, label='Data 2')\n",
    "plt.legend()\n",
    "plt.show()"
   ],
   "id": "62d5b736c7d38264",
   "outputs": [
    {
     "data": {
      "text/plain": [
       "<Figure size 640x480 with 1 Axes>"
      ],
      "image/png": "[encoded data removed]"
     },
     "metadata": {},
     "output_type": "display_data"
    }
   ],
   "execution_count": 9
  },
  {
   "metadata": {},
   "cell_type": "markdown",
   "source": [
    "## Conclusion\n",
    "\n",
    "This Python script performs several statistical computations and visualizations using NumPy, SciPy, and Matplotlib libraries. Here's an overview of what the code achieves:\n",
    "\n",
    "1. **Student Coefficient Calculation**:\n",
    "   - The `calculate_student_coef` function calculates student coefficients for a dataset. It iterates through each data point, excluding one at a time, computes the mean and standard deviation of the remaining data, and determines whether the excluded data point significantly deviates from the mean based on a critical t-value. This helps in identifying outliers or influential observations in the dataset.\n",
    "\n",
    "2. **Fisher's Discriminant Coefficient**:\n",
    "   - The `fisher_discriminant_coefficient` function computes Fisher's discriminant coefficient between two datasets (`data1` and `data2`). This coefficient is a measure of how well two classes (represented by the datasets) can be distinguished from each other based on their variances. It helps in feature selection or dimensionality reduction tasks in machine learning and pattern recognition.\n",
    "\n",
    "3. **Two-Sample t-Test**:\n",
    "   - The script also calculates the t-statistic for a two-sample t-test between `data1` and `data2`. It then compares this statistic against a critical t-value to determine if there is a significant difference between the means of the two datasets at a 5% significance level. This is useful in hypothesis testing to ascertain whether two sets of data have statistically different means.\n",
    "\n",
    "4. **Visualization**:\n",
    "   - Finally, the script generates histograms of `data1` and `data2` to visually compare their distributions. This provides a graphical representation of how the two datasets differ or overlap.\n",
    "\n",
    "### Purpose\n",
    "This script was created to:\n",
    "- **Explore Statistical Relationships**: By calculating coefficients like student coefficients and Fisher's discriminant coefficient, the script helps in exploring statistical relationships within datasets.\n",
    "- **Perform Hypothesis Testing**: The t-statistic calculation and comparison with a critical value enable hypothesis testing to determine if observed differences between datasets are significant.\n",
    "- **Visualize Data**: Histograms visualize the distribution of data, aiding in understanding their characteristics visually.\n",
    "\n",
    "By combining statistical calculations with visualization, this script facilitates data exploration and hypothesis testing in scientific research, data analysis, or machine learning applications.\n"
   ],
   "id": "8dafad5004723a66"
  }
 ],
 "metadata": {
  "kernelspec": {
   "display_name": "Python 3",
   "language": "python",
   "name": "python3"
  },
  "language_info": {
   "codemirror_mode": {
    "name": "ipython",
    "version": 2
   },
   "file_extension": ".py",
   "mimetype": "text/x-python",
   "name": "python",
   "nbconvert_exporter": "python",
   "pygments_lexer": "ipython2",
   "version": "2.7.6"
  }
 },
 "nbformat": 4,
 "nbformat_minor": 5
}
