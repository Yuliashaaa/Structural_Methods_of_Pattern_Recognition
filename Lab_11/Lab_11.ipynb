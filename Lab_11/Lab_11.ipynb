{
 "cells": [
  {
   "metadata": {},
   "cell_type": "markdown",
   "source": [
    "# Lab 11: Проєктування системи перевірки адекватності текстових даних засобами машинного навчання.\n",
    "### Шевченко Юлія, ФІ-31мн"
   ],
   "id": "c15b3773d298d362"
  },
  {
   "metadata": {},
   "cell_type": "markdown",
   "source": "In this project, we aim to design and implement a sophisticated system utilizing machine learning techniques to assess the adequacy of textual data. The goal is to analyze the effectiveness and reliability of various machine learning algorithms in discerning whether text data is suitable and appropriate for specific applications.",
   "id": "cc73cd0925b3d0d5"
  },
  {
   "cell_type": "code",
   "id": "initial_id",
   "metadata": {
    "collapsed": true,
    "ExecuteTime": {
     "end_time": "2024-06-18T23:59:23.241686Z",
     "start_time": "2024-06-18T23:59:23.095920Z"
    }
   },
   "source": [
    "# All the imports for the task\n",
    "import re\n",
    "\n",
    "import numpy as np"
   ],
   "outputs": [],
   "execution_count": 1
  },
  {
   "metadata": {
    "ExecuteTime": {
     "end_time": "2024-06-18T23:59:23.249320Z",
     "start_time": "2024-06-18T23:59:23.243694Z"
    }
   },
   "cell_type": "code",
   "source": [
    "# Function to preprocess text: convert to lowercase and remove punctuation\n",
    "def preprocess_text(text):\n",
    "    \"\"\"\n",
    "    Preprocesses text by converting it to lowercase and removing punctuation.\n",
    "\n",
    "    Args:\n",
    "    - text (str): The input text to be preprocessed.\n",
    "\n",
    "    Returns:\n",
    "    - str: Processed text with lowercase letters and no punctuation.\n",
    "    \"\"\"\n",
    "    text = text.lower()  # Convert text to lowercase\n",
    "    text = re.sub(r'[^a-zA-Z0-9\\s]', '', text)  # Remove punctuation and special characters\n",
    "    return text"
   ],
   "id": "b24be993eba513ae",
   "outputs": [],
   "execution_count": 2
  },
  {
   "metadata": {
    "ExecuteTime": {
     "end_time": "2024-06-18T23:59:23.260213Z",
     "start_time": "2024-06-18T23:59:23.252335Z"
    }
   },
   "cell_type": "code",
   "source": [
    "# Function to count letter combinations of length n in text\n",
    "def count_letter_combinations(text, n):\n",
    "    \"\"\"\n",
    "    Counts occurrences of letter combinations of length n in the given text.\n",
    "\n",
    "    Args:\n",
    "    - text (str): The input text to analyze.\n",
    "    - n (int): Length of the letter combinations.\n",
    "\n",
    "    Returns:\n",
    "    - dict: Dictionary where keys are letter combinations and values are their frequencies.\n",
    "    \"\"\"\n",
    "    text = preprocess_text(text)\n",
    "    combinations = {}\n",
    "    for i in range(len(text) - n + 1):\n",
    "        combination = text[i:i+n]\n",
    "        if ' ' not in combination:  # Check if combination contains space\n",
    "            if combination in combinations:\n",
    "                combinations[combination] += 1\n",
    "            else:\n",
    "                combinations[combination] = 1\n",
    "    return combinations"
   ],
   "id": "4c443fc604459912",
   "outputs": [],
   "execution_count": 3
  },
  {
   "metadata": {
    "ExecuteTime": {
     "end_time": "2024-06-18T23:59:23.272826Z",
     "start_time": "2024-06-18T23:59:23.262223Z"
    }
   },
   "cell_type": "code",
   "source": [
    "# Initialize variables\n",
    "n = 2  # Length of letter combinations to analyze\n",
    "text=\"\"\"Artificial Intelligence (AI) and Robotics are two distinct yet increasingly interconnected fields that are revolutionizing numerous industries and aspects of daily life. While AI focuses on developing algorithms and computational models to simulate human intelligence and automate tasks, Robotics deals with the design, construction, operation, and application of robots. The synergy between AI and Robotics is leading to transformative advancements, enabling robots to perceive, learn, and interact with the environment and humans in more sophisticated ways. This paper explores the collaborative potential of AI and Robotics, highlighting how each field enhances the other's capabilities and impacts. Firstly, it examines AI-driven advancements in Robotics, showcasing how AI techniques such as machine learning, computer vision, and natural language processing are enabling robots to perform tasks with greater autonomy, adaptability, and efficiency. Examples include autonomous vehicles, robotic assistants in healthcare, and smart manufacturing systems. Secondly, the paper discusses Robotics as a platform for AI research and experimentation. Robots provide a physical embodiment for AI algorithms, allowing researchers to test and refine their models in real-world environments. This synergy has led to breakthroughs in AI, such as improved perception, navigation, and human-robot interaction. Furthermore, the paper explores collaborative projects and technologies that exemplify the mutual enhancement of AI and Robotics. These include AI-powered drones for search and rescue missions, robotic exoskeletons for rehabilitation, and collaborative robots (cobots) in industrial settings. These examples demonstrate how the integration of AI and Robotics is reshaping industries and expanding the possibilities of what robots can achieve. In conclusion, the collaborative potential of AI and Robotics is vast and promising. As both fields continue to advance, the synergy between them will lead to even more innovative applications and solutions. Understanding and harnessing this synergy is key to unlocking the full potential of AI and Robotics and driving forward the next wave of technological evolution. Artificial Intelligence (AI) and Robotics are two fields at the forefront of technological innovation, with each playing a significant role in shaping the future. AI focuses on creating intelligent machines capable of learning, reasoning, and problem-solving, while Robotics deals with the design, construction, operation, and application of robots. The intersection of these fields, known as AI Robotics or RoboAI, is where the true potential for collaboration lies. Collaboration in the context of AI and Robotics refers to the integration of AI technologies into robotic systems to enhance their capabilities. This collaboration enables robots to perceive and interact with their environment more effectively, make decisions autonomously, and adapt to changing circumstances. Importantly, collaboration between AI and Robotics is not just about combining two technologies; it is about creating synergies that amplify the strengths of each field. The importance of collaboration between AI and Robotics cannot be overstated. It has the potential to revolutionize industries such as manufacturing, healthcare, transportation, and agriculture, among others. By working together, AI and Robotics can tackle complex problems that neither field could solve alone, leading to more efficient processes, safer work environments, and improved quality of life. Thesis Statement: The collaborative potential of AI and Robotics holds great promise for advancing technology and solving complex problems. By leveraging the strengths of each field, we can create intelligent robotic systems that are capable of addressing the challenges of the 21st century.  Enhanced Autonomy: Future advancements in AI and robotics are expected to lead to robots with greater autonomy, allowing them to perform complex tasks with minimal human intervention. This includes robots that can learn from their experiences, adapt to new environments, and collaborate more effectively with humans and other robots. Human-Robot Interaction: Improving human-robot interaction is a key area for future advancements. This includes developing robots that can understand and respond to human emotions, intentions, and preferences, leading to more natural and intuitive interactions. Multi-Robot Systems: Future advancements may also include the development of multi-robot systems that can collaborate and coordinate their actions to achieve common goals. This could lead to more efficient and flexible robotic systems for tasks such as search and rescue, disaster response, and construction. Technical Challenges: Technical challenges include developing AI algorithms that can handle the complexities of real-world environments, such as uncertainty, variability, and dynamic changes. Additionally, ensuring the safety and reliability of AI-driven robotic systems remains a major challenge. Ethical Challenges: Ethical challenges include ensuring that AI-driven robotic systems are used in a fair and responsible manner, avoiding bias and discrimination. Additionally, there are concerns about the impact of automation on employment and the workforce, as well as privacy and security issues related to the use of AI and robotics in various applications.  Regulatory Challenges: Regulatory challenges include developing appropriate regulations and standards for the design, development, and deployment of AI-driven robotic systems. This includes addressing issues such as liability, accountability, and safety standards.  Learning and Adaptation: Further research is needed to develop AI algorithms that can learn and adapt in real-time to new environments and tasks. This includes research in areas such as reinforcement learning, transfer learning, and lifelong learning. Human-Robot Collaboration: Opportunities exist for further research in human-robot collaboration, including developing robots that can collaborate more effectively with humans and other robots. This includes research in areas such as shared autonomy, task allocation, and team coordination. In conclusion, collaborative AI and robotics hold great promise for the future, but also present significant challenges that must be overcome. By addressing these challenges and seizing opportunities for further research and development, we can unlock the full potential of AI-driven robotics and create a future where humans and robots collaborate seamlessly to improve our lives. In this exploration of the collaborative potential of AI and Robotics, several key points have emerged. Firstly, AI enhances robotics by improving perception, decision-making, and autonomy, leading to more capable and intelligent robots. Secondly, robotics provides a physical platform for AI research and experimentation, enabling the testing of AI algorithms in real-world scenarios. Thirdly, collaborative projects between AI and Robotics are driving innovation in various industries, from manufacturing to healthcare, leading to more efficient and safer work environments. Finally, ethical and societal implications, such as the impact on employment and workforce, the need for ethical guidelines, and ensuring safety and trust in collaborative systems, must be carefully considered. The collaborative potential of AI and Robotics is vast and promising. By leveraging the strengths of each field, we can create intelligent robotic systems that are capable of addressing the challenges of the 21st century. AI enhances robotics by providing advanced algorithms for perception, decision-making, and learning, while robotics provides a physical platform for AI research and experimentation. Together, AI and Robotics are driving innovation and transforming industries, leading to more efficient processes, safer work environments, and improved quality of life. To foster collaboration in AI and Robotics, researchers, developers, and policymakers must work together to address key challenges and seize opportunities for further research and development. This includes developing advanced AI algorithms for robotics, designing robots that can collaborate more effectively with humans, and ensuring ethical and responsible use of AI-driven robotic systems. By working together, we can unlock the full potential of AI and Robotics and create a future where humans and robots collaborate seamlessly to improve our lives.\"\"\""
   ],
   "id": "9377c658d7331fb0",
   "outputs": [],
   "execution_count": 4
  },
  {
   "metadata": {
    "ExecuteTime": {
     "end_time": "2024-06-18T23:59:23.289646Z",
     "start_time": "2024-06-18T23:59:23.276844Z"
    }
   },
   "cell_type": "code",
   "source": [
    "# Calculate letter combinations and their frequencies\n",
    "combination_counts = count_letter_combinations(text, n)\n",
    "print(\"Letter combinations of length\", n, \"and their frequencies:\")\n",
    "print(combination_counts)"
   ],
   "id": "ff9ba33c93b0911e",
   "outputs": [
    {
     "name": "stdout",
     "output_type": "stream",
     "text": [
      "Letter combinations of length 2 and their frequencies:\n",
      "{'ar': 53, 'rt': 15, 'ti': 145, 'if': 10, 'fi': 22, 'ic': 74, 'ci': 13, 'ia': 18, 'al': 72, 'in': 160, 'nt': 82, 'te': 80, 'el': 40, 'll': 55, 'li': 40, 'ig': 16, 'ge': 26, 'en': 108, 'nc': 42, 'ce': 37, 'ai': 50, 'an': 164, 'nd': 115, 'ro': 109, 'ob': 73, 'bo': 99, 'ot': 87, 'cs': 33, 're': 107, 'tw': 8, 'wo': 14, 'di': 20, 'is': 41, 'st': 51, 'ct': 27, 'ye': 1, 'et': 21, 'cr': 8, 'ea': 65, 'as': 33, 'si': 33, 'ng': 96, 'gl': 1, 'ly': 19, 'er': 77, 'rc': 24, 'co': 51, 'on': 107, 'nn': 7, 'ne': 21, 'ec': 25, 'ed': 20, 'ie': 35, 'ld': 16, 'ds': 7, 'th': 132, 'ha': 45, 'at': 95, 'ev': 21, 'vo': 4, 'ol': 41, 'lu': 19, 'ut': 27, 'io': 65, 'ni': 21, 'iz': 4, 'zi': 2, 'nu': 5, 'um': 16, 'me': 32, 'ou': 14, 'us': 24, 'du': 6, 'tr': 19, 'ri': 42, 'es': 104, 'sp': 6, 'pe': 19, 'ts': 37, 'of': 39, 'da': 8, 'il': 14, 'fe': 17, 'wh': 7, 'hi': 28, 'le': 62, 'fo': 33, 'oc': 10, 'cu': 8, 'se': 39, 'de': 45, 've': 57, 'lo': 32, 'op': 19, 'pi': 8, 'lg': 7, 'go': 8, 'or': 100, 'it': 41, 'hm': 7, 'ms': 23, 'om': 24, 'mp': 25, 'pu': 2, 'ta': 28, 'na': 16, 'mo': 21, 'od': 3, 'ls': 7, 'to': 51, 'im': 21, 'mu': 7, 'ul': 13, 'la': 34, 'hu': 14, 'ma': 32, 'au': 9, 'sk': 7, 'ks': 5, 'wi': 14, 'he': 81, 'gn': 6, 'ns': 36, 'ru': 5, 'uc': 12, 'ra': 45, 'ap': 21, 'pp': 8, 'pl': 23, 'ca': 46, 'sy': 17, 'yn': 6, 'rg': 6, 'gy': 5, 'be': 8, 'we': 11, 'ee': 7, 'ad': 30, 'sf': 3, 'rm': 8, 'iv': 31, 'dv': 9, 'va': 19, 'em': 33, 'ab': 43, 'bl': 14, 'ei': 11, 'rn': 12, 'ac': 25, 'nv': 9, 'vi': 22, 'ir': 21, 'nm': 11, 'so': 9, 'ph': 4, 'wa': 3, 'ay': 3, 'ys': 16, 'pa': 13, 'ex': 22, 'xp': 9, 'po': 24, 'gh': 3, 'hl': 1, 'ht': 1, 'ho': 6, 'ow': 8, 'ch': 54, 'nh': 6, 'rs': 13, 'bi': 11, 'tl': 3, 'xa': 3, 'am': 9, 'mi': 10, 'id': 13, 'dr': 15, 'sh': 4, 'wc': 1, 'hn': 9, 'iq': 1, 'qu': 3, 'ue': 7, 'su': 15, 'tu': 20, 'ur': 27, 'gu': 5, 'ua': 4, 'ag': 4, 'pr': 28, 'ss': 17, 'rf': 2, 'gr': 7, 'no': 20, 'my': 5, 'pt': 8, 'ty': 12, 'ef': 14, 'ff': 9, 'cy': 3, 'cl': 16, 'ud': 13, 'eh': 2, 'lt': 7, 'hc': 3, 'sm': 1, 'uf': 3, 'fa': 4, 'dl': 4, 'sc': 5, 'tf': 3, 'ov': 17, 'hy': 3, 'mb': 2, 'lw': 3, 'rl': 3, 'br': 1, 'ak': 5, 'kt': 1, 'hr': 1, 'ug': 1, 'hs': 4, 'ep': 4, 'av': 4, 'ga': 1, 'nr': 5, 'fu': 16, 'oj': 2, 'je': 2, 'og': 10, 'gi': 9, 'xe': 1, 'fy': 2, 'ip': 1, 'xo': 1, 'os': 4, 'ke': 7, 'tt': 1, 'gs': 1, 'eg': 5, 'ib': 4, 'un': 10, 'ey': 4, 'nl': 3, 'ck': 4, 'ki': 5, 'rw': 1, 'rd': 6, 'xt': 2, 'fr': 3, 'yi': 1, 'lv': 3, 'kn': 1, 'wn': 1, 'oa': 2, 'sl': 3, 'ju': 1, 'gt': 3, 'ze': 2, 'by': 7, 'rk': 8, 'kl': 1, 'sa': 7, 'af': 6, 'dd': 7, '21': 2, '1s': 2, 'ry': 4, 'rv': 1, 'ew': 2, 'ui': 2, 'pm': 4, 'oo': 2, 'mm': 1, 'fl': 1, 'xi': 3, 'dy': 1, 'aj': 1, 'jo': 1, 'oi': 2, 'oy': 3, 'ym': 4, 'kf': 2, 'cc': 1, 'nf': 1, 'bu': 1, 'ml': 2}\n"
     ]
    }
   ],
   "execution_count": 5
  },
  {
   "metadata": {
    "ExecuteTime": {
     "end_time": "2024-06-18T23:59:23.301528Z",
     "start_time": "2024-06-18T23:59:23.292660Z"
    }
   },
   "cell_type": "code",
   "source": [
    "# Function to evaluate a test text based on combination counts\n",
    "def evaluation(test_text, combination_counts):\n",
    "    \"\"\"\n",
    "    Evaluates the adequacy score of test_text based on precomputed combination counts.\n",
    "\n",
    "    Args:\n",
    "    - test_text (str): The text to evaluate.\n",
    "    - combination_counts (dict): Dictionary of letter combinations and their frequencies.\n",
    "\n",
    "    Returns:\n",
    "    - float: Score indicating adequacy of the test text.\n",
    "    \"\"\"\n",
    "    test_combinations = count_letter_combinations(preprocess_text(test_text), n)\n",
    "    score = 1  # Initialize score\n",
    "    for combination in test_combinations.keys():\n",
    "        if combination in combination_counts:\n",
    "            score += combination_counts[combination]\n",
    "    return score"
   ],
   "id": "87e580778a1e363c",
   "outputs": [],
   "execution_count": 6
  },
  {
   "metadata": {
    "ExecuteTime": {
     "end_time": "2024-06-18T23:59:23.315182Z",
     "start_time": "2024-06-18T23:59:23.303537Z"
    }
   },
   "cell_type": "code",
   "source": [
    "# Test data for evaluation\n",
    "harmful = [\n",
    "    \"Hf djfnjdk skjdsnd jhhjd bn on tdsm skddo.\",\n",
    "    \"Kdfd ksdnnj kjij onrnehsd lsdnk xoncbyeda.\",\n",
    "    \"Odfjdf of jnsdg asdrvghsd kksdjn odnb chbdsgv erjnas.\",\n",
    "    \"Jjfjdns in asdtvasd ertgf.\",\n",
    "    \"Pkdsdks osdb of asdjbad qaasdpps.\"\n",
    "]\n",
    "\n",
    "correct = [\n",
    "    \"As the rental car rolled to a stop on the dark road, her fear increased by the moment.\",\n",
    "    \"Be careful with that butter knife.\",\n",
    "    \"He dreamed of leaving his law firm to open a portable dog wash.\",\n",
    "    \"The crowd yells and screams for more memes.\",\n",
    "    \"He decided to fake his disappearance to avoid jail.\",\n",
    "]"
   ],
   "id": "8f512632856bfb71",
   "outputs": [],
   "execution_count": 7
  },
  {
   "metadata": {
    "ExecuteTime": {
     "end_time": "2024-06-18T23:59:23.327964Z",
     "start_time": "2024-06-18T23:59:23.316191Z"
    }
   },
   "cell_type": "code",
   "source": [
    "bag = []\n",
    "for text in harmful + correct:\n",
    "    bag.append(evaluation(text, combination_counts))"
   ],
   "id": "1f2a07b4dd1953ca",
   "outputs": [],
   "execution_count": 8
  },
  {
   "metadata": {
    "ExecuteTime": {
     "end_time": "2024-06-18T23:59:23.336562Z",
     "start_time": "2024-06-18T23:59:23.329977Z"
    }
   },
   "cell_type": "code",
   "source": [
    "# Calculate threshold as the mean of all scores\n",
    "threshold = np.mean(bag)\n",
    "print(\"Threshold score:\", threshold)"
   ],
   "id": "ce8657a952265832",
   "outputs": [
    {
     "name": "stdout",
     "output_type": "stream",
     "text": [
      "Threshold score: 735.5\n"
     ]
    }
   ],
   "execution_count": 9
  },
  {
   "metadata": {
    "ExecuteTime": {
     "end_time": "2024-06-18T23:59:23.344702Z",
     "start_time": "2024-06-18T23:59:23.338576Z"
    }
   },
   "cell_type": "code",
   "source": [
    "# Function to make a decision based on a text's score compared to threshold\n",
    "def make_decision(text, threshold=735.5):\n",
    "    \"\"\"\n",
    "    Makes a decision based on the adequacy score of the text compared to a threshold.\n",
    "\n",
    "    Args:\n",
    "    - text (str): The text to evaluate.\n",
    "    - threshold (float): Threshold score for decision-making.\n",
    "\n",
    "    Returns:\n",
    "    - tuple: (score, decision) where score is the adequacy score and decision is a boolean indicating if the score is above the threshold.\n",
    "    \"\"\"\n",
    "    score = evaluation(text, combination_counts)\n",
    "    return score, score > threshold"
   ],
   "id": "395e610d01a2c3e4",
   "outputs": [],
   "execution_count": 10
  },
  {
   "metadata": {
    "ExecuteTime": {
     "end_time": "2024-06-18T23:59:23.353276Z",
     "start_time": "2024-06-18T23:59:23.346734Z"
    }
   },
   "cell_type": "code",
   "source": [
    "# Test texts for decision-making\n",
    "test_texts = [\n",
    "    \"Acmksmcks znajnzja asdnc abdfcp skoog.\",\n",
    "    \"Psand xbxt osnd over kmsjbn asnzo.\",\n",
    "    \"Yisd zxlkzxp zlnzx lord eoty mxnjp zonk.\",\n",
    "    \"Onzb york forjot donkwoq aongrot kmasdjz lsmdnaad pohuq akap.\",\n",
    "    \"Yamzu sxok xuziko aoplot skmjbasdp asdnadjfo porbin axmxap awert.\",\n",
    "    \"The glacier came alive as the climbers hiked closer.\",\n",
    "    \"Homesickness became contagious in the young campers' cabin.\",\n",
    "    \"I used to practice weaving with spaghetti three hours a day but stopped because I didn't want to die alone.\",\n",
    "    \"Patricia found the meaning of life in a bowl of Cheerios.\",\n",
    "    \"Stop waiting for exceptional things to just happen.\"\n",
    "]"
   ],
   "id": "66932f7de65b20ef",
   "outputs": [],
   "execution_count": 11
  },
  {
   "metadata": {
    "ExecuteTime": {
     "end_time": "2024-06-18T23:59:23.367805Z",
     "start_time": "2024-06-18T23:59:23.354324Z"
    }
   },
   "cell_type": "code",
   "source": [
    "# Evaluate each test text and make a decision\n",
    "for text in test_texts:\n",
    "    print(\"\\nText:\", text)\n",
    "    score, decision = make_decision(text)\n",
    "    print(\"Score:\", score)\n",
    "    print(\"Decision:\", decision)"
   ],
   "id": "ef7231d8f48ad0ec",
   "outputs": [
    {
     "name": "stdout",
     "output_type": "stream",
     "text": [
      "\n",
      "Text: Acmksmcks znajnzja asdnc abdfcp skoog.\n",
      "Score: 190\n",
      "Decision: False\n",
      "\n",
      "Text: Psand xbxt osnd over kmsjbn asnzo.\n",
      "Score: 500\n",
      "Decision: False\n",
      "\n",
      "Text: Yisd zxlkzxp zlnzx lord eoty mxnjp zonk.\n",
      "Score: 396\n",
      "Decision: False\n",
      "\n",
      "Text: Onzb york forjot donkwoq aongrot kmasdjz lsmdnaad pohuq akap.\n",
      "Score: 746\n",
      "Decision: True\n",
      "\n",
      "Text: Yamzu sxok xuziko aoplot skmjbasdp asdnadjfo porbin axmxap awert.\n",
      "Score: 715\n",
      "Decision: False\n",
      "\n",
      "Text: The glacier came alive as the climbers hiked closer.\n",
      "Score: 909\n",
      "Decision: True\n",
      "\n",
      "Text: Homesickness became contagious in the young campers' cabin.\n",
      "Score: 1456\n",
      "Decision: True\n",
      "\n",
      "Text: I used to practice weaving with spaghetti three hours a day but stopped because I didn't want to die alone.\n",
      "Score: 2138\n",
      "Decision: True\n",
      "\n",
      "Text: Patricia found the meaning of life in a bowl of Cheerios.\n",
      "Score: 1618\n",
      "Decision: True\n",
      "\n",
      "Text: Stop waiting for exceptional things to just happen.\n",
      "Score: 1468\n",
      "Decision: True\n"
     ]
    }
   ],
   "execution_count": 12
  },
  {
   "metadata": {},
   "cell_type": "markdown",
   "source": [
    "### Conclusion\n",
    "\n",
    "In this project, we've developed a Python script utilizing Jupyter Notebook to assess the adequacy of textual data using machine learning principles. Here's a summary of what we've accomplished and why it is important:\n",
    "\n",
    "1.  **Text Preprocessing and Analysis**: We implemented functions to preprocess text by converting it to lowercase and removing punctuation. This step ensures uniformity and eliminates irrelevant characters that could affect analysis accuracy.\n",
    "\n",
    "2.  **Letter Combination Frequency Analysis**: The `count_letter_combinations` function computes the frequencies of letter combinations of a specified length (`n`) in the text. This analysis provides insights into patterns and characteristics within the text data.\n",
    "\n",
    "3.  **Adequacy Evaluation**: We defined an `evaluation` function to assess the adequacy of test texts based on their similarity to a reference text in terms of letter combination frequencies. This evaluation is crucial for tasks such as plagiarism detection or verifying the integrity of textual content.\n",
    "\n",
    "4.  **Decision-Making**: Using a predefined threshold derived from the mean scores of known harmful and correct texts, the `make_decision` function determines whether a given text meets the adequacy criteria. This decision-making process can automate quality control measures in various applications, such as content filtering or authenticity validation.\n",
    "\n",
    "5.  **Significance**: This project showcases the practical application of machine learning concepts in text analysis. By automating the assessment of textual adequacy, our tool can assist researchers, educators, and content moderators in ensuring the integrity, originality, and appropriateness of text-based data across different domains.\n",
    "\n",
    "6.  **Future Directions**: Further enhancements could include integrating more sophisticated machine learning models for text classification or expanding the analysis to handle larger datasets and more diverse linguistic features.\n",
    "\n",
    "In conclusion, this project demonstrates how Python, Jupyter Notebook, and machine learning techniques can be leveraged to create a robust tool for evaluating text data adequacy. By automating this process, we facilitate efficient decision-making and enhance the reliability of textual content analysis in various applications."
   ],
   "id": "5daa6fcd9618133d"
  }
 ],
 "metadata": {
  "kernelspec": {
   "display_name": "Python 3",
   "language": "python",
   "name": "python3"
  },
  "language_info": {
   "codemirror_mode": {
    "name": "ipython",
    "version": 2
   },
   "file_extension": ".py",
   "mimetype": "text/x-python",
   "name": "python",
   "nbconvert_exporter": "python",
   "pygments_lexer": "ipython2",
   "version": "2.7.6"
  }
 },
 "nbformat": 4,
 "nbformat_minor": 5
}
